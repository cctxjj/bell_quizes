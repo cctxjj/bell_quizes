{
 "cells": [
  {
   "cell_type": "code",
   "execution_count": 4,
   "id": "63d15e948b4f60ec",
   "metadata": {
    "ExecuteTime": {
     "end_time": "2025-02-16T16:03:38.967708Z",
     "start_time": "2025-02-16T16:03:38.954127Z"
    }
   },
   "outputs": [
    {
     "data": {
      "application/vnd.jupyter.widget-view+json": {
       "model_id": "7a1fef74b72b4c06a70ca394af768772",
       "version_major": 2,
       "version_minor": 0
      },
      "text/plain": [
       "HTML(value='Wie heißt die Giraffe?')"
      ]
     },
     "metadata": {},
     "output_type": "display_data"
    },
    {
     "data": {
      "application/vnd.jupyter.widget-view+json": {
       "model_id": "a311dd6bd00944d7976cff5aa1b3d9cc",
       "version_major": 2,
       "version_minor": 0
      },
      "text/plain": [
       "Text(value='', description='Antwort: ', placeholder='Hier eingeben')"
      ]
     },
     "metadata": {},
     "output_type": "display_data"
    },
    {
     "data": {
      "application/vnd.jupyter.widget-view+json": {
       "model_id": "6c753074c1fc458f8c67d1d0e370ecd9",
       "version_major": 2,
       "version_minor": 0
      },
      "text/plain": [
       "Button(description='Prüfen', style=ButtonStyle(button_color='grey'))"
      ]
     },
     "metadata": {},
     "output_type": "display_data"
    },
    {
     "data": {
      "application/vnd.jupyter.widget-view+json": {
       "model_id": "9ff48a30d72147239b25f5f296a907e9",
       "version_major": 2,
       "version_minor": 0
      },
      "text/plain": [
       "HTML(value='Was ist richtig?')"
      ]
     },
     "metadata": {},
     "output_type": "display_data"
    },
    {
     "data": {
      "application/vnd.jupyter.widget-view+json": {
       "model_id": "f2e07ee6a4214ce38a6b5e1350959075",
       "version_major": 2,
       "version_minor": 0
      },
      "text/plain": [
       "VBox(children=(HBox(children=(Checkbox(value=False, description='F'), Checkbox(value=False, description='f')))…"
      ]
     },
     "metadata": {},
     "output_type": "display_data"
    },
    {
     "data": {
      "application/vnd.jupyter.widget-view+json": {
       "model_id": "ec805798bdf74120af8647a7f71b844e",
       "version_major": 2,
       "version_minor": 0
      },
      "text/plain": [
       "Button(description='Prüfen', style=ButtonStyle(button_color='grey'))"
      ]
     },
     "metadata": {},
     "output_type": "display_data"
    },
    {
     "data": {
      "application/vnd.jupyter.widget-view+json": {
       "model_id": "4ff353f06a70486da08700e05ebd3f69",
       "version_major": 2,
       "version_minor": 0
      },
      "text/plain": [
       "HTML(value='Was ist richtig?')"
      ]
     },
     "metadata": {},
     "output_type": "display_data"
    },
    {
     "data": {
      "application/vnd.jupyter.widget-view+json": {
       "model_id": "a44d311fd98d455fa41c00f6e3b2a09c",
       "version_major": 2,
       "version_minor": 0
      },
      "text/plain": [
       "VBox(children=(HBox(children=(Checkbox(value=False, description='f'), Checkbox(value=False, description='r')))…"
      ]
     },
     "metadata": {},
     "output_type": "display_data"
    },
    {
     "data": {
      "application/vnd.jupyter.widget-view+json": {
       "model_id": "3cdd1f48097e4445af4face73d60560c",
       "version_major": 2,
       "version_minor": 0
      },
      "text/plain": [
       "Button(description='Prüfen', style=ButtonStyle(button_color='grey'))"
      ]
     },
     "metadata": {},
     "output_type": "display_data"
    },
    {
     "data": {
      "application/vnd.jupyter.widget-view+json": {
       "model_id": "c9bc010d87e041d59191879f9e41dd01",
       "version_major": 2,
       "version_minor": 0
      },
      "text/plain": [
       "HTML(value='Was ist richtig?')"
      ]
     },
     "metadata": {},
     "output_type": "display_data"
    },
    {
     "data": {
      "application/vnd.jupyter.widget-view+json": {
       "model_id": "fd3cb0b2edca4b7dbaaa6024c3784a6a",
       "version_major": 2,
       "version_minor": 0
      },
      "text/plain": [
       "VBox(children=(HBox(children=(Button(description='f', layout=Layout(border_bottom='2px solid grey', border_lef…"
      ]
     },
     "metadata": {},
     "output_type": "display_data"
    },
    {
     "data": {
      "application/vnd.jupyter.widget-view+json": {
       "model_id": "d1d1b5bbaba94dc59996f767847bf25a",
       "version_major": 2,
       "version_minor": 0
      },
      "text/plain": [
       "Button(description='Prüfen', style=ButtonStyle(button_color='grey'))"
      ]
     },
     "metadata": {},
     "output_type": "display_data"
    },
    {
     "data": {
      "application/vnd.jupyter.widget-view+json": {
       "model_id": "437ce89621ca497fa31a0585ca4c7103",
       "version_major": 2,
       "version_minor": 0
      },
      "text/plain": [
       "HTML(value='Was ist richtig?')"
      ]
     },
     "metadata": {},
     "output_type": "display_data"
    },
    {
     "data": {
      "application/vnd.jupyter.widget-view+json": {
       "model_id": "f0b756ac49b54379831b9cd2a8d6d039",
       "version_major": 2,
       "version_minor": 0
      },
      "text/plain": [
       "VBox(children=(HBox(children=(Button(description='falsch', layout=Layout(border_bottom='2px solid grey', borde…"
      ]
     },
     "metadata": {},
     "output_type": "display_data"
    },
    {
     "data": {
      "application/vnd.jupyter.widget-view+json": {
       "model_id": "3ed3a947882f4f0485346dbc60753b8b",
       "version_major": 2,
       "version_minor": 0
      },
      "text/plain": [
       "Button(description='Prüfen', style=ButtonStyle(button_color='grey'))"
      ]
     },
     "metadata": {},
     "output_type": "display_data"
    },
    {
     "data": {
      "application/vnd.jupyter.widget-view+json": {
       "model_id": "8a57dd659214461db4e07dd18bf57652",
       "version_major": 2,
       "version_minor": 0
      },
      "text/plain": [
       "HTML(value='Was ist die richtige Reihenfolge?')"
      ]
     },
     "metadata": {},
     "output_type": "display_data"
    },
    {
     "data": {
      "application/vnd.jupyter.widget-view+json": {
       "model_id": "7647522fbac14c34a344f971c41a9cb6",
       "version_major": 2,
       "version_minor": 0
      },
      "text/plain": [
       "VBox(children=(HBox(children=(HTML(value='D', layout=Layout(border_bottom='1px solid aqua', border_left='1px s…"
      ]
     },
     "metadata": {},
     "output_type": "display_data"
    },
    {
     "data": {
      "application/vnd.jupyter.widget-view+json": {
       "model_id": "5199f719c7564215a060c02a1e618097",
       "version_major": 2,
       "version_minor": 0
      },
      "text/plain": [
       "Button(description='Prüfen', style=ButtonStyle(button_color='grey'))"
      ]
     },
     "metadata": {},
     "output_type": "display_data"
    },
    {
     "data": {
      "application/vnd.jupyter.widget-view+json": {
       "model_id": "7c72fdb1b9314f0bbc69431feccc3fd3",
       "version_major": 2,
       "version_minor": 0
      },
      "text/plain": [
       "HBox(children=(HTML(value='Hier ist die richtige Lösung '), Dropdown(layout=Layout(width='auto'), options=('_'…"
      ]
     },
     "metadata": {},
     "output_type": "display_data"
    },
    {
     "data": {
      "application/vnd.jupyter.widget-view+json": {
       "model_id": "58ac59c8c2484b47b4896eafd41580fc",
       "version_major": 2,
       "version_minor": 0
      },
      "text/plain": [
       "Button(description='Prüfen', style=ButtonStyle(button_color='grey'))"
      ]
     },
     "metadata": {},
     "output_type": "display_data"
    },
    {
     "data": {
      "application/vnd.jupyter.widget-view+json": {
       "model_id": "dfe9c68a7a5a467f84730a74e6540081",
       "version_major": 2,
       "version_minor": 0
      },
      "text/plain": [
       "HBox(children=(HTML(value='Hier ist die richtige Lösung '), Text(value='', layout=Layout(width='100px'), place…"
      ]
     },
     "metadata": {},
     "output_type": "display_data"
    },
    {
     "data": {
      "application/vnd.jupyter.widget-view+json": {
       "model_id": "ff5b2b4717d546519941914b326d46a6",
       "version_major": 2,
       "version_minor": 0
      },
      "text/plain": [
       "Button(description='Prüfen', style=ButtonStyle(button_color='grey'))"
      ]
     },
     "metadata": {},
     "output_type": "display_data"
    },
    {
     "data": {
      "text/plain": [
       "<lib.AnswerboxText at 0x1f21b6fed50>"
      ]
     },
     "execution_count": 4,
     "metadata": {},
     "output_type": "execute_result"
    }
   ],
   "source": [
    "\n",
    "from sheets import lib\n",
    "\n",
    "lib.SimpleInput(\"Wie heißt die Giraffe?\", \"Langhalsaffe\")\n",
    "lib.MultipleChoice(\"Was ist richtig?\", [\"r\", \"R\"], [\"f\", \"F\"])\n",
    "lib.SingleChoice(\"Was ist richtig?\", \"r\", [\"f\", \"F\", \"falsch\"])\n",
    "lib.ButtonedMultipleChoice(\"Was ist richtig?\", [\"r\", \"R\"], [\"f\", \"F\"])\n",
    "lib.ButtonedSingleChoice(\"Was ist richtig?\", \"r\", [\"f\", \"F\", \"falsch\"])\n",
    "lib.OrderTask(\"Was ist die richtige Reihenfolge?\", [\"A\", \"B\", \"C\", \"D\"])\n",
    "lib.DropdownText(\"Hier ist die richtige Lösung {1/2/3/4/5/1}.\")\n",
    "lib.AnswerboxText(\"Hier ist die richtige Lösung {richtig}.\")"
   ]
  }
 ],
 "metadata": {
  "kernelspec": {
   "display_name": "Python 3 (ipykernel)",
   "language": "python",
   "name": "python3"
  },
  "language_info": {
   "codemirror_mode": {
    "name": "ipython",
    "version": 3
   },
   "file_extension": ".py",
   "mimetype": "text/x-python",
   "name": "python",
   "nbconvert_exporter": "python",
   "pygments_lexer": "ipython3",
   "version": "3.12.0"
  }
 },
 "nbformat": 4,
 "nbformat_minor": 5
}
