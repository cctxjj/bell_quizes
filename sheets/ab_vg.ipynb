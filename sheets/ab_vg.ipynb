{
 "cells": [
  {
   "cell_type": "markdown",
   "id": "e45fc2e1-96b6-464b-89fc-43ec5fba3b5c",
   "metadata": {},
   "source": [
    "# Vektorgrafik \n"
   ]
  },
  {
   "cell_type": "code",
   "execution_count": null,
   "id": "171ccea3-a1a5-4b30-a533-b6d3c0950097",
   "metadata": {},
   "outputs": [],
   "source": [
    "# Führe diese Zelle aus, um alle benötigten Bibliotheken zu installieren\n",
    "!pip install ipywidgets\n",
    "!pip install ipycanvas\n",
    "!pip install matplotlib"
   ]
  },
  {
   "cell_type": "markdown",
   "id": "700c0c7d-e050-4ef2-9041-eb2cb9f27373",
   "metadata": {},
   "source": [
    "## Abschnitt 1 - Grundlagen"
   ]
  },
  {
   "cell_type": "code",
   "execution_count": null,
   "id": "30634ce5-17e3-4f67-83b9-3838e08d3219",
   "metadata": {},
   "outputs": [],
   "source": [
    "# Führe diese Codezelle aus, um das Quiz zu starten\n",
    "from questions import VG\n",
    "vg = VG()\n",
    "vg.text_1()\n",
    "vg.question_1()\n",
    "vg.question_2()\n",
    "vg.question_3()\n",
    "vg.question_4()"
   ]
  },
  {
   "cell_type": "markdown",
   "id": "0b2f43d6-c9b9-4cdb-89d9-6b0e7cb99fc4",
   "metadata": {},
   "source": [
    "## Abschnitt 2 - objektorientierte Grafik\n",
    "Geometrische Körper werden in der Vektorgrafik als Objekte mit Eigenschaften (Attributen) gespeichert. <br>\n",
    "Zu den Eigenschaften gehören beispielsweise Seitenlängen und Farbe.\n",
    "\n",
    "### Aufgabe 1\n",
    "Unten siehst du ein Rechteck mit Eigenschaften, die du einstellen kannst (Zelle ausführen).\n"
   ]
  },
  {
   "cell_type": "code",
   "execution_count": null,
   "id": "2c1bdb17-bfa6-4974-ae1c-8d7772ad0890",
   "metadata": {},
   "outputs": [],
   "source": [
    "vg.adjustable_rect()"
   ]
  },
  {
   "cell_type": "markdown",
   "id": "80e4bd2c-c45e-452a-bfd3-3ab9ef04c56a",
   "metadata": {},
   "source": [
    "Erstelle nun selbst zwei Rechtecke mit den gegebenen Eigenschaften. Verfahre wie in der nächsten Zelle beispielhaft dargestellt.\n",
    "\n",
    "blauesRechteck: \n",
    "- Breite: 20px\n",
    "- Höhe: 100px\n",
    "- Position: 20|20\n",
    "- Farbe: #00FFFF\n",
    "\n",
    "grünesRechteck:\n",
    "- Breite: 150px\n",
    "- Höhe: 40px\n",
    "- Position: 70|0\n",
    "- Farbe: #00FF00\n",
    "\n",
    "Orientiere dich am Beispiel!"
   ]
  },
  {
   "cell_type": "code",
   "execution_count": null,
   "id": "6f75711a-f109-428c-848e-603060b0833c",
   "metadata": {},
   "outputs": [],
   "source": [
    "from questions import Rechteck\n",
    "\n",
    "rotesRechteck = Rechteck(breite=100, höhe=100, x=10, y=30, farbe=\"#FF0000\")\n",
    "rotesRechteck.anzeigen()\n"
   ]
  },
  {
   "cell_type": "markdown",
   "id": "deec201c-4ed0-4a47-8a72-6bf1702b4400",
   "metadata": {},
   "source": [
    "<br>\n",
    "Hier wird eine Klasse für einen Kreis erstellt. Ergänze den Code und teste durch Ausführen der Zelle. "
   ]
  },
  {
   "cell_type": "code",
   "execution_count": null,
   "id": "a284205a-2233-4828-9b24-295a01cd0b03",
   "metadata": {},
   "outputs": [],
   "source": [
    "from ipycanvas import Canvas\n",
    "\n",
    "class Kreis:\n",
    "    def __init__(self, radius, x, y, farbe):\n",
    "        self.radius = radius\n",
    "        # Weise dem Objekt (self) die Attribute x und y entsprechend den übergebenen Werten zu.\n",
    "        # Tipp: verfahre wie beim Radius\n",
    "        self.farbe = farbe\n",
    "        self.canvas = None\n",
    "\n",
    "    def anzeigen(self):\n",
    "        # Diese Methode arbeitet mit einer Bibliothek, um das Objekt anzuzeigen. Du kannst sie ignorieren.\n",
    "        if self.canvas == None:\n",
    "            self.canvas = Canvas(width=max(2*self.radius+self.x, 100), height=max(2*self.radius+self.y, 100))\n",
    "            display(self.canvas)\n",
    "        else:\n",
    "            self.canvas.clear()\n",
    "        self.canvas.fill_style = self.farbe\n",
    "        self.canvas.fill_circle(x=self.x, y=self.canvas.height-(self.y+self.radius), radius=self.radius)\n",
    "\n",
    "kreis1 = Kreis(50, 50, 50, \"#FF0000\")\n",
    "kreis1.anzeigen()\n",
    "\n"
   ]
  },
  {
   "cell_type": "markdown",
   "id": "00abe588-3aae-4ad5-b84b-7bc5964742df",
   "metadata": {},
   "source": [
    "Ändere nun die Farbe von Kreis1 und lasse ihn (erneut) anzeigen. Versuche, dabei keine vorangegangene Zeile zu verändern."
   ]
  },
  {
   "cell_type": "markdown",
   "id": "630d0afc-8f9d-449e-81f0-101aa4efc949",
   "metadata": {},
   "source": [
    "## Abschnitt 3 - Bezierkurve nach DeCasteljau"
   ]
  },
  {
   "cell_type": "markdown",
   "id": "75a0e167-b9f4-47dd-809c-fc36d986c818",
   "metadata": {},
   "source": [
    "Die folgenden Zeilen stellen der Prozess zur Errechnung eines Kurvenpunktes dar. \n",
    "\n",
    "Fülle die Lücken im Code und führe anschließend die Zellen aus."
   ]
  },
  {
   "cell_type": "code",
   "execution_count": null,
   "id": "ff32b8f9-b4a0-4cb5-bfbc-24cfa74670bb",
   "metadata": {},
   "outputs": [],
   "source": [
    "punkte_p = # Erstelle eine leere Liste\n",
    "for i in range(4):\n",
    "    x = float(input(f\"x-Wert für P{i+1}: \"))\n",
    "    y = # frage den y-Wert für den Punkt ab\n",
    "    punkte_p.append((x,y))\n",
    "# Liste besteht am Ende der Schleife aus x/y-Paaren, welche Punkte repräsentieren\n",
    "# lasse dir die Liste ausgeben\n",
    "vg.stelle_punkte_dar(punkte_p, \"P\", \"green\")\n"
   ]
  },
  {
   "cell_type": "code",
   "execution_count": null,
   "id": "f2d8e710-ec5f-4726-a3e6-b700948dac7d",
   "metadata": {},
   "outputs": [],
   "source": [
    "teiler = # frage, welcher Teiler gewünscht ist. (Tipp: du benötigst eine Gleitkommazahl zwischen 0 und 1)\n",
    "\n",
    "\n",
    "# Nun sollen die ersten Teiler-Punkte Q1-Q3 errechnet werden\n",
    "punkte_q = vg.teiler_punkte(punkte_p, teiler) # Errechnung Punkte Q1-Q3\n",
    "vg.stelle_punkte_dar(punkte_q, \"Q\", \"blue\")"
   ]
  },
  {
   "cell_type": "code",
   "execution_count": null,
   "id": "5dcecaa3-479d-46b8-b3c7-e3d0029b277a",
   "metadata": {},
   "outputs": [],
   "source": [
    "punkte_r = # wiederhole den Prozess und errechne die Punkte R1-R2 (orientiere dich oben und beachte, welche Ausgangspunkte du benötigst)\n",
    "vg.stelle_punkte_dar(punkte_r, \"R\", \"purple\")"
   ]
  },
  {
   "cell_type": "code",
   "execution_count": null,
   "id": "ec37b883-2a71-463f-878c-ea7a123921bf",
   "metadata": {},
   "outputs": [],
   "source": [
    "punkte_s = vg.teiler_punkte(punkte_r, teiler)\n",
    "vg.stelle_punkte_dar(punkte_s, \"S\", \"red\")\n",
    "# Punkt S (rot) ist nun ein finaler Punkt auf der Kurve"
   ]
  },
  {
   "cell_type": "markdown",
   "id": "686418b5-4b44-4b67-a35a-893fc3f85a46",
   "metadata": {},
   "source": [
    "Diesen Prozess zur Errechnung eines Kurvenpunktes erledigt nun die Funktion \"errechne_kurvenpunkt\". Sie übernimmt die 4 Ausgangspunkte sowie den Teiler als Parameter und gibt ein Tupel (Zahlenpaar) mit x- und y-Wert des Kurvenpunktes zurück.\n",
    "\n",
    "Kommentiere den untenstehenden Code und erkläre für jede Zeile, was passiert. "
   ]
  },
  {
   "cell_type": "code",
   "execution_count": null,
   "id": "04c3c033-d74c-4f83-86fe-1ab710cb9903",
   "metadata": {},
   "outputs": [],
   "source": [
    "kurvenpunkte = []\n",
    "anzahl_punkte = # frage die gewünschten Kurvenpunkte (Anzahl der verschiedenen Teiler) ab\n",
    "for teiler in range(0, anzahl_punkte):\n",
    "    kurvenpunkte.append(vg.errechne_kurvenpunkt(punkte_p, teiler/anzahl_punkte))\n",
    "vg.stelle_kurve_dar(punkte_p, kurvenpunkte)"
   ]
  }
 ],
 "metadata": {
  "kernelspec": {
   "display_name": "Python 3 (ipykernel)",
   "language": "python",
   "name": "python3"
  },
  "language_info": {
   "codemirror_mode": {
    "name": "ipython",
    "version": 3
   },
   "file_extension": ".py",
   "mimetype": "text/x-python",
   "name": "python",
   "nbconvert_exporter": "python",
   "pygments_lexer": "ipython3",
   "version": "3.11.10"
  }
 },
 "nbformat": 4,
 "nbformat_minor": 5
}
