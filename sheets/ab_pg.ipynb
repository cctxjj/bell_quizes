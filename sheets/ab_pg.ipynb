{
 "cells": [
  {
   "cell_type": "markdown",
   "id": "0b278f37-37ff-4782-99ec-6e05db7c7f56",
   "metadata": {},
   "source": [
    "# Pixelgrafik"
   ]
  },
  {
   "cell_type": "code",
   "execution_count": null,
   "id": "d1731f8d-ecc5-47e8-a43b-ee253e4c2ddf",
   "metadata": {},
   "outputs": [],
   "source": [
    "# Führe diese Zelle aus, um alle benötigten Bibliotheken zu installieren\n",
    "!pip install ipywidgets\n",
    "!pip install ipycanvas\n",
    "!pip install matplotlib"
   ]
  },
  {
   "cell_type": "markdown",
   "id": "63d84650-beff-4644-9f5a-4fba41f94c86",
   "metadata": {},
   "source": [
    "## Abschnitt 1 - Grundlagen"
   ]
  },
  {
   "cell_type": "code",
   "execution_count": null,
   "id": "56363ed9-0ee2-4a0a-8260-25beb7d93a07",
   "metadata": {},
   "outputs": [],
   "source": [
    "# Führe diese Codezelle aus, um das Quiz zu starten\n",
    "from questions import PG\n",
    "pg = PG()\n",
    "pg.text_1()\n",
    "pg.question_1()\n",
    "pg.question_2()\n",
    "pg.question_3()\n",
    "pg.question_4()\n",
    "pg.question_5()"
   ]
  },
  {
   "cell_type": "markdown",
   "id": "9cc7e610-b20c-43e5-9dc2-8bf604189305",
   "metadata": {},
   "source": [
    "## Abschnitt 2 - Bresenham-Algorithmus"
   ]
  },
  {
   "cell_type": "code",
   "execution_count": null,
   "id": "30ff7252-0087-48d3-9171-5d7076a0cbc5",
   "metadata": {},
   "outputs": [],
   "source": [
    "pg.order_1()"
   ]
  },
  {
   "cell_type": "markdown",
   "id": "6effc2ad-0ecb-4aa2-bc2a-7959f6bdfc14",
   "metadata": {},
   "source": [
    "Wir wollen nun den Bresenham-Algorithmus in Python implementieren. Ergänze den Code und prüfe dein Ergebnis mithilfe der Darstellung. Die Linie soll auf einem Bild der Größe 20x20 entstehen. "
   ]
  },
  {
   "cell_type": "code",
   "execution_count": null,
   "id": "dbc220db-ab70-445c-bee4-4fbd8636cd15",
   "metadata": {},
   "outputs": [],
   "source": [
    "import time\n",
    "\n",
    "x_start = int(input(\"Was ist der x-Startwert?\")) # Einschränkung: 0 <= x <= 20\n",
    "y_start = int(input(\"Was ist der y-Startwert?\")) # Einschränkung: 0 <= y <= 20\n",
    "\n",
    "x_end = # frage diese Variable ab\n",
    "y_end = # frage diese Variable ab\n",
    "pg.stelle_dar(x_start, y_start)\n",
    "# stelle auf gleiche Weise den Endpunkt dar\n",
    "\n",
    "unterschied_x = # berechne die Differenz zwischen Startwert und Endwert für x\n",
    "unterschied_y = # berechne die Differenz zwischen Startwert und Endwert für y\n",
    " \n",
    "aktuelles_x = x_start\n",
    "aktuelles_y = y_start\n",
    "\n",
    "fehler = 2*unterschied_y - unterschied_x\n",
    "\n",
    "while aktuelles_x < x_end:\n",
    "    # zähle aktuelles_x um 1 nach oben\n",
    "    if # ergänze hier die Bedingung, dass der Fehler größer als 0 ist\n",
    "        aktuelles_y += 1\n",
    "        fehler += 2*(unterschied_y-unterschied_x)\n",
    "    else:\n",
    "        fehler += 2*unterschied_y\n",
    "    pg.stelle_dar(aktuelles_x, aktuelles_y)\n",
    "    time.sleep(1)\n",
    "        \n",
    "    "
   ]
  },
  {
   "cell_type": "markdown",
   "id": "e40a30e5-6959-46e1-afb8-69feb29e3b95",
   "metadata": {},
   "source": [
    "## Abschnitt 3 - RLE"
   ]
  },
  {
   "cell_type": "code",
   "execution_count": null,
   "id": "1f49a564-6307-4cc7-9934-b52922421bf4",
   "metadata": {},
   "outputs": [],
   "source": [
    "pg.text_2()\n",
    "pg.question_6()\n",
    "pg.question_7()"
   ]
  },
  {
   "cell_type": "markdown",
   "id": "f26f3593-2cc6-4784-afb3-2f5cdb6ea22e",
   "metadata": {},
   "source": [
    "Passe den unten stehenden Code zur Lauflängenkodierung an."
   ]
  },
  {
   "cell_type": "code",
   "execution_count": null,
   "id": "172fc6d0-ac8f-4478-9565-920600587144",
   "metadata": {},
   "outputs": [],
   "source": [
    "eingabe_str = # frage hier den unkomprimierten String ab\n",
    "\n",
    "letzter_buchstabe = # diese Variable soll dem ersten Buchstaben der Eingabe entsprechen\n",
    "zähler = 1 # Anzahl des Buchstabens, wird hochgezählt\n",
    "\n",
    "ergebnis = \"\"\n",
    "\n",
    "for buchstabe in eingabe_str[1:]:\n",
    "    if # Bedingung: aktueller Buchstabe ist gleich dem letzten Buchstaben\n",
    "        zähler = zähler + 1\n",
    "    else:\n",
    "        ergebnis = str(zähler) + letzter_buchstabe # Ergebnis wird um komprimierte Zeichenkette erweitert (z.B. GGG -> 3G)\n",
    "        letzter_buchstabe = buchstabe\n",
    "        # setze den Zähler zurück auf 1\n",
    "\n",
    "ergebnis = str(zähler) + letzter_buchstabe\n",
    "# gib das Ergebnis aus"
   ]
  },
  {
   "cell_type": "code",
   "execution_count": null,
   "id": "0d81600f-b9dd-4f59-9364-7d2635a6bbf8",
   "metadata": {},
   "outputs": [],
   "source": [
    "pg.question_8()\n",
    "pg.question_9()"
   ]
  },
  {
   "cell_type": "markdown",
   "id": "b79ccd70-cd9a-45b3-b919-bd1b678faffb",
   "metadata": {},
   "source": [
    "## Ende\n",
    "Hier ist das Ende. Du hast das Arbeitsblatt beendet."
   ]
  }
 ],
 "metadata": {
  "kernelspec": {
   "display_name": "Python 3 (ipykernel)",
   "language": "python",
   "name": "python3"
  },
  "language_info": {
   "codemirror_mode": {
    "name": "ipython",
    "version": 3
   },
   "file_extension": ".py",
   "mimetype": "text/x-python",
   "name": "python",
   "nbconvert_exporter": "python",
   "pygments_lexer": "ipython3",
   "version": "3.11.10"
  }
 },
 "nbformat": 4,
 "nbformat_minor": 5
}
