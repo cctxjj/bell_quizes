{
 "cells": [
  {
   "cell_type": "markdown",
   "id": "4c469f00-f153-4e7d-bef2-6801cafb042b",
   "metadata": {
    "editable": true,
    "slideshow": {
     "slide_type": ""
    },
    "tags": []
   },
   "source": [
    "## Eine kleine Quizrunde zur Pythonprogrammierung\n",
    "\n",
    "Führen Sie die Zellen hier aus um kleine Quizaufgaben zu starten."
   ]
  },
  {
   "cell_type": "code",
   "execution_count": 7,
   "id": "db89c897-21c6-4e9a-85a8-899f48af1b7f",
   "metadata": {
    "editable": true,
    "slideshow": {
     "slide_type": ""
    },
    "tags": []
   },
   "outputs": [
    {
     "data": {
      "application/vnd.jupyter.widget-view+json": {
       "model_id": "67fe239ea76b46e699e64ee5d096f119",
       "version_major": 2,
       "version_minor": 0
      },
      "text/plain": [
       "Canvas(height=60, width=60)"
      ]
     },
     "metadata": {},
     "output_type": "display_data"
    },
    {
     "data": {
      "application/vnd.jupyter.widget-view+json": {
       "model_id": "e26740c92537459ba812466181dde90e",
       "version_major": 2,
       "version_minor": 0
      },
      "text/plain": [
       "HTML(value='<b> Frage: Bei welchem Index beginnt eine Liste in Python?</b>')"
      ]
     },
     "metadata": {},
     "output_type": "display_data"
    },
    {
     "data": {
      "application/vnd.jupyter.widget-view+json": {
       "model_id": "05feec3918594bee9ead510dac9fb2b9",
       "version_major": 2,
       "version_minor": 0
      },
      "text/plain": [
       "HBox(children=(Button(description='⠀⠀⠀⠀0⠀⠀⠀⠀ ', layout=Layout(width='auto'), style=ButtonStyle()), Button(desc…"
      ]
     },
     "metadata": {},
     "output_type": "display_data"
    },
    {
     "data": {
      "application/vnd.jupyter.widget-view+json": {
       "model_id": "b8bf6f2422ea442e86d945eecb00d166",
       "version_major": 2,
       "version_minor": 0
      },
      "text/plain": [
       "Label(value='Bitte wähle eine Antwort aus.')"
      ]
     },
     "metadata": {},
     "output_type": "display_data"
    },
    {
     "data": {
      "application/vnd.jupyter.widget-view+json": {
       "model_id": "f8d13728ad46490a96c412384ba77f59",
       "version_major": 2,
       "version_minor": 0
      },
      "text/plain": [
       "HBox(children=(Button(description='Antworten Prüfen', style=ButtonStyle()),))"
      ]
     },
     "metadata": {},
     "output_type": "display_data"
    },
    {
     "data": {
      "application/vnd.jupyter.widget-view+json": {
       "model_id": "69bc0590b1fd46ee9fa924d4524b79f5",
       "version_major": 2,
       "version_minor": 0
      },
      "text/plain": [
       "HBox(children=(Button(description='Lösung zeigen', style=ButtonStyle()),))"
      ]
     },
     "metadata": {},
     "output_type": "display_data"
    }
   ],
   "source": [
    "import sys, os; sys.path.append(os.path.abspath('../'));from sherlock.holmes import drwatson\n",
    "drwatson(\"# Quiz 1\")"
   ]
  },
  {
   "cell_type": "code",
   "execution_count": 4,
   "id": "3ea9cc07-7843-4f49-bc86-710210db79c5",
   "metadata": {
    "editable": true,
    "slideshow": {
     "slide_type": ""
    },
    "tags": []
   },
   "outputs": [
    {
     "data": {
      "application/vnd.jupyter.widget-view+json": {
       "model_id": "28b9e7ea4b9f48e1a0632af3372cc9f3",
       "version_major": 2,
       "version_minor": 0
      },
      "text/plain": [
       "Canvas(height=60, width=115)"
      ]
     },
     "metadata": {},
     "output_type": "display_data"
    },
    {
     "data": {
      "application/vnd.jupyter.widget-view+json": {
       "model_id": "8b708fa180ab4a3bb60dca0f3c4069b8",
       "version_major": 2,
       "version_minor": 0
      },
      "text/plain": [
       "HTML(value='<b> Frage: Welche der Begriffe sind korrekte logische Operatoren?</b>')"
      ]
     },
     "metadata": {},
     "output_type": "display_data"
    },
    {
     "data": {
      "application/vnd.jupyter.widget-view+json": {
       "model_id": "939739ec554d467bb669aaedd9b8f7b8",
       "version_major": 2,
       "version_minor": 0
      },
      "text/plain": [
       "HBox(children=(Button(description='⠀⠀⠀⠀and⠀⠀⠀⠀   ', layout=Layout(width='auto'), style=ButtonStyle()), Button(…"
      ]
     },
     "metadata": {},
     "output_type": "display_data"
    },
    {
     "data": {
      "application/vnd.jupyter.widget-view+json": {
       "model_id": "21856e2f982a41bf88cf061e3861b979",
       "version_major": 2,
       "version_minor": 0
      },
      "text/plain": [
       "Label(value='Wähle eine oder mehrere Antworten aus.')"
      ]
     },
     "metadata": {},
     "output_type": "display_data"
    },
    {
     "data": {
      "application/vnd.jupyter.widget-view+json": {
       "model_id": "7731f7dae9e545679dfde9aef4f1fb60",
       "version_major": 2,
       "version_minor": 0
      },
      "text/plain": [
       "HBox(children=(Button(description='Antworten Prüfen', style=ButtonStyle()),))"
      ]
     },
     "metadata": {},
     "output_type": "display_data"
    },
    {
     "data": {
      "application/vnd.jupyter.widget-view+json": {
       "model_id": "e0683edda71b4c9d8083c503aea936b4",
       "version_major": 2,
       "version_minor": 0
      },
      "text/plain": [
       "HBox(children=(Button(description='Lösung zeigen', style=ButtonStyle()),))"
      ]
     },
     "metadata": {},
     "output_type": "display_data"
    }
   ],
   "source": [
    "drwatson(\"# Quiz 2\")"
   ]
  }
 ],
 "metadata": {
  "kernelspec": {
   "display_name": "Python 3 (ipykernel)",
   "language": "python",
   "name": "python3"
  },
  "language_info": {
   "codemirror_mode": {
    "name": "ipython",
    "version": 3
   },
   "file_extension": ".py",
   "mimetype": "text/x-python",
   "name": "python",
   "nbconvert_exporter": "python",
   "pygments_lexer": "ipython3",
   "version": "3.11.9"
  }
 },
 "nbformat": 4,
 "nbformat_minor": 5
}
