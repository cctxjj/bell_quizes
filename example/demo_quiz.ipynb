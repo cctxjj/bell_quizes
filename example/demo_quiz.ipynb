{
 "cells": [
  {
   "cell_type": "markdown",
   "id": "4c469f00-f153-4e7d-bef2-6801cafb042b",
   "metadata": {
    "editable": true,
    "slideshow": {
     "slide_type": ""
    },
    "tags": []
   },
   "source": [
    "## Eine kleine Quizrunde zur Pythonprogrammierung\n",
    "\n",
    "Führen Sie die Zellen hier aus um kleine Quizaufgaben zu starten."
   ]
  },
  {
   "cell_type": "code",
   "id": "db89c897-21c6-4e9a-85a8-899f48af1b7f",
   "metadata": {
    "editable": true,
    "slideshow": {
     "slide_type": ""
    },
    "tags": [],
    "ExecuteTime": {
     "end_time": "2025-04-05T19:46:15.285565Z",
     "start_time": "2025-04-05T19:46:15.034026Z"
    }
   },
   "source": [
    "import sys, os; sys.path.append(os.path.abspath('../'));from sherlock.holmes import drwatson\n",
    "drwatson(\"# Quiz 1\")"
   ],
   "outputs": [
    {
     "data": {
      "text/plain": [
       "Canvas(height=60, width=60)"
      ],
      "application/vnd.jupyter.widget-view+json": {
       "version_major": 2,
       "version_minor": 0,
       "model_id": "4226e514501149889cf629d23a5591c8"
      }
     },
     "metadata": {},
     "output_type": "display_data"
    },
    {
     "data": {
      "text/plain": [
       "HTML(value='<b> Frage: Bei welchem Index beginnt eine Liste in Python?</b>')"
      ],
      "application/vnd.jupyter.widget-view+json": {
       "version_major": 2,
       "version_minor": 0,
       "model_id": "86e859897d2a46a2924b6cba411a85ca"
      }
     },
     "metadata": {},
     "output_type": "display_data"
    },
    {
     "data": {
      "text/plain": [
       "HBox(children=(Button(description='⠀⠀⠀⠀0⠀⠀⠀⠀ ', layout=Layout(width='auto'), style=ButtonStyle()), Button(desc…"
      ],
      "application/vnd.jupyter.widget-view+json": {
       "version_major": 2,
       "version_minor": 0,
       "model_id": "b0ebd57d94f44416904efe5dcb56b1cf"
      }
     },
     "metadata": {},
     "output_type": "display_data"
    },
    {
     "data": {
      "text/plain": [
       "Label(value='Bitte wähle eine Antwort aus.')"
      ],
      "application/vnd.jupyter.widget-view+json": {
       "version_major": 2,
       "version_minor": 0,
       "model_id": "5b9ac88d046a405782ed1723baa79e33"
      }
     },
     "metadata": {},
     "output_type": "display_data"
    },
    {
     "data": {
      "text/plain": [
       "HBox(children=(Button(description='Antworten Prüfen', style=ButtonStyle()),))"
      ],
      "application/vnd.jupyter.widget-view+json": {
       "version_major": 2,
       "version_minor": 0,
       "model_id": "5440cd1e717b4953876f0e06712d63f8"
      }
     },
     "metadata": {},
     "output_type": "display_data"
    },
    {
     "data": {
      "text/plain": [
       "HBox(children=(Button(description='Lösung zeigen', style=ButtonStyle()),))"
      ],
      "application/vnd.jupyter.widget-view+json": {
       "version_major": 2,
       "version_minor": 0,
       "model_id": "dd90c92a7c9f40d789977c70682d23fc"
      }
     },
     "metadata": {},
     "output_type": "display_data"
    }
   ],
   "execution_count": 1
  },
  {
   "cell_type": "code",
   "id": "3ea9cc07-7843-4f49-bc86-710210db79c5",
   "metadata": {
    "editable": true,
    "slideshow": {
     "slide_type": ""
    },
    "tags": [],
    "ExecuteTime": {
     "end_time": "2025-04-05T19:46:29.214625Z",
     "start_time": "2025-04-05T19:46:29.178863Z"
    }
   },
   "source": [
    "drwatson(\"# Quiz 2\")"
   ],
   "outputs": [
    {
     "data": {
      "text/plain": [
       "Canvas(height=60, width=115)"
      ],
      "application/vnd.jupyter.widget-view+json": {
       "version_major": 2,
       "version_minor": 0,
       "model_id": "8e163fab6d3a4cb499f4e65713ce6dca"
      }
     },
     "metadata": {},
     "output_type": "display_data"
    },
    {
     "data": {
      "text/plain": [
       "HTML(value='<b> Frage: Welche der Begriffe sind korrekte logische Operatoren?</b>')"
      ],
      "application/vnd.jupyter.widget-view+json": {
       "version_major": 2,
       "version_minor": 0,
       "model_id": "c9978ff606f54cd5bab7615f9c0ab9db"
      }
     },
     "metadata": {},
     "output_type": "display_data"
    },
    {
     "data": {
      "text/plain": [
       "HBox(children=(Button(description='⠀⠀⠀⠀and⠀⠀⠀⠀   ', layout=Layout(width='auto'), style=ButtonStyle()), Button(…"
      ],
      "application/vnd.jupyter.widget-view+json": {
       "version_major": 2,
       "version_minor": 0,
       "model_id": "fe72e15d34374896a24d205cd3011a34"
      }
     },
     "metadata": {},
     "output_type": "display_data"
    },
    {
     "data": {
      "text/plain": [
       "Label(value='Wähle eine oder mehrere Antworten aus.')"
      ],
      "application/vnd.jupyter.widget-view+json": {
       "version_major": 2,
       "version_minor": 0,
       "model_id": "136fc07d34374ea98631ebe779bca82f"
      }
     },
     "metadata": {},
     "output_type": "display_data"
    },
    {
     "data": {
      "text/plain": [
       "HBox(children=(Button(description='Antworten Prüfen', style=ButtonStyle()),))"
      ],
      "application/vnd.jupyter.widget-view+json": {
       "version_major": 2,
       "version_minor": 0,
       "model_id": "a6acf17314f74ade9952dda4c13c88c1"
      }
     },
     "metadata": {},
     "output_type": "display_data"
    },
    {
     "data": {
      "text/plain": [
       "HBox(children=(Button(description='Lösung zeigen', style=ButtonStyle()),))"
      ],
      "application/vnd.jupyter.widget-view+json": {
       "version_major": 2,
       "version_minor": 0,
       "model_id": "66e6f884fd664d599cbaefc9c43087fa"
      }
     },
     "metadata": {},
     "output_type": "display_data"
    }
   ],
   "execution_count": 2
  }
 ],
 "metadata": {
  "kernelspec": {
   "display_name": "Python 3 (ipykernel)",
   "language": "python",
   "name": "python3"
  },
  "language_info": {
   "codemirror_mode": {
    "name": "ipython",
    "version": 3
   },
   "file_extension": ".py",
   "mimetype": "text/x-python",
   "name": "python",
   "nbconvert_exporter": "python",
   "pygments_lexer": "ipython3",
   "version": "3.11.9"
  }
 },
 "nbformat": 4,
 "nbformat_minor": 5
}
