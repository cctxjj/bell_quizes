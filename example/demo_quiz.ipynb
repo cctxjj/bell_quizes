{
 "cells": [
  {
   "cell_type": "markdown",
   "id": "4c469f00-f153-4e7d-bef2-6801cafb042b",
   "metadata": {
    "editable": true,
    "slideshow": {
     "slide_type": ""
    },
    "tags": []
   },
   "source": [
    "## Eine kleine Quizrunde zur Pythonprogrammierung\n",
    "\n",
    "Führen Sie die Zellen hier aus um kleine Quizaufgaben zu starten."
   ]
  },
  {
   "cell_type": "code",
   "id": "db89c897-21c6-4e9a-85a8-899f48af1b7f",
   "metadata": {
    "editable": true,
    "slideshow": {
     "slide_type": ""
    },
    "tags": [],
    "ExecuteTime": {
     "end_time": "2025-01-05T18:25:57.834617Z",
     "start_time": "2025-01-05T18:25:57.360313Z"
    }
   },
   "source": [
    "import sys, os; sys.path.append(os.path.abspath('../'));from sherlock.holmes import drwatson\n",
    "drwatson(\"# Quiz 1\")"
   ],
   "outputs": [
    {
     "data": {
      "text/plain": [
       "Canvas(height=60, width=60)"
      ],
      "application/vnd.jupyter.widget-view+json": {
       "version_major": 2,
       "version_minor": 0,
       "model_id": "16b9c3d07081444b8c68a45b68e8e9be"
      }
     },
     "metadata": {},
     "output_type": "display_data"
    },
    {
     "data": {
      "text/plain": [
       "HTML(value='<b> Frage: Bei welchem Index beginnt eine Liste in Python?</b>')"
      ],
      "application/vnd.jupyter.widget-view+json": {
       "version_major": 2,
       "version_minor": 0,
       "model_id": "271255fe1b9040a4a2d0c84f15f030f7"
      }
     },
     "metadata": {},
     "output_type": "display_data"
    },
    {
     "data": {
      "text/plain": [
       "HBox(children=(Button(description='⠀⠀⠀⠀0⠀⠀⠀⠀ ', layout=Layout(width='auto'), style=ButtonStyle()), Button(desc…"
      ],
      "application/vnd.jupyter.widget-view+json": {
       "version_major": 2,
       "version_minor": 0,
       "model_id": "451c611933b749c8a5059ce6934ad807"
      }
     },
     "metadata": {},
     "output_type": "display_data"
    },
    {
     "data": {
      "text/plain": [
       "Label(value='Bitte wähle eine Antwort aus.')"
      ],
      "application/vnd.jupyter.widget-view+json": {
       "version_major": 2,
       "version_minor": 0,
       "model_id": "7971ff2b8c9c4dcb8a7f7ad5df03fc6f"
      }
     },
     "metadata": {},
     "output_type": "display_data"
    },
    {
     "data": {
      "text/plain": [
       "HBox(children=(Button(description='Antworten Prüfen', style=ButtonStyle()),))"
      ],
      "application/vnd.jupyter.widget-view+json": {
       "version_major": 2,
       "version_minor": 0,
       "model_id": "5750b3c399b04e8789f604a89d66546f"
      }
     },
     "metadata": {},
     "output_type": "display_data"
    },
    {
     "data": {
      "text/plain": [
       "HBox(children=(Button(description='Lösung zeigen', style=ButtonStyle()),))"
      ],
      "application/vnd.jupyter.widget-view+json": {
       "version_major": 2,
       "version_minor": 0,
       "model_id": "1fa0ac52fc8a4b98b077b5e62e936ac6"
      }
     },
     "metadata": {},
     "output_type": "display_data"
    }
   ],
   "execution_count": 1
  },
  {
   "cell_type": "code",
   "id": "3ea9cc07-7843-4f49-bc86-710210db79c5",
   "metadata": {
    "editable": true,
    "slideshow": {
     "slide_type": ""
    },
    "tags": [],
    "ExecuteTime": {
     "end_time": "2025-01-05T18:26:36.574395Z",
     "start_time": "2025-01-05T18:26:36.544626Z"
    }
   },
   "source": [
    "drwatson(\"# Quiz 2\")"
   ],
   "outputs": [
    {
     "data": {
      "text/plain": [
       "Canvas(height=60, width=115)"
      ],
      "application/vnd.jupyter.widget-view+json": {
       "version_major": 2,
       "version_minor": 0,
       "model_id": "0247fa6d5c574e4ea19a971ada73e27e"
      }
     },
     "metadata": {},
     "output_type": "display_data"
    },
    {
     "data": {
      "text/plain": [
       "HTML(value='<b> Frage: Welche der Begriffe sind korrekte logische Operatoren?</b>')"
      ],
      "application/vnd.jupyter.widget-view+json": {
       "version_major": 2,
       "version_minor": 0,
       "model_id": "87f1ff40a9cf4f70a1b294b21622b77b"
      }
     },
     "metadata": {},
     "output_type": "display_data"
    },
    {
     "data": {
      "text/plain": [
       "HBox(children=(Button(description='⠀⠀⠀⠀and⠀⠀⠀⠀   ', layout=Layout(width='auto'), style=ButtonStyle()), Button(…"
      ],
      "application/vnd.jupyter.widget-view+json": {
       "version_major": 2,
       "version_minor": 0,
       "model_id": "46048e5058484e6fa578db2baa0f7bc2"
      }
     },
     "metadata": {},
     "output_type": "display_data"
    },
    {
     "data": {
      "text/plain": [
       "Label(value='Wähle eine oder mehrere Antworten aus.')"
      ],
      "application/vnd.jupyter.widget-view+json": {
       "version_major": 2,
       "version_minor": 0,
       "model_id": "45b78b6c38b34e6b8ca881efdabf9a65"
      }
     },
     "metadata": {},
     "output_type": "display_data"
    },
    {
     "data": {
      "text/plain": [
       "HBox(children=(Button(description='Antworten Prüfen', style=ButtonStyle()),))"
      ],
      "application/vnd.jupyter.widget-view+json": {
       "version_major": 2,
       "version_minor": 0,
       "model_id": "d30c5d1d06c743f4b2254bdb06775326"
      }
     },
     "metadata": {},
     "output_type": "display_data"
    },
    {
     "data": {
      "text/plain": [
       "HBox(children=(Button(description='Lösung zeigen', style=ButtonStyle()),))"
      ],
      "application/vnd.jupyter.widget-view+json": {
       "version_major": 2,
       "version_minor": 0,
       "model_id": "0176fc1d3fa34aea95f9419eced801d0"
      }
     },
     "metadata": {},
     "output_type": "display_data"
    }
   ],
   "execution_count": 2
  }
 ],
 "metadata": {
  "kernelspec": {
   "display_name": "Python 3 (ipykernel)",
   "language": "python",
   "name": "python3"
  },
  "language_info": {
   "codemirror_mode": {
    "name": "ipython",
    "version": 3
   },
   "file_extension": ".py",
   "mimetype": "text/x-python",
   "name": "python",
   "nbconvert_exporter": "python",
   "pygments_lexer": "ipython3",
   "version": "3.11.9"
  }
 },
 "nbformat": 4,
 "nbformat_minor": 5
}
