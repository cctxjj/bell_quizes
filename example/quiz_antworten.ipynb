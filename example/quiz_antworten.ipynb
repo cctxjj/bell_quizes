{
 "cells": [
  {
   "cell_type": "code",
   "execution_count": null,
   "id": "e423ac09-fe0a-4d30-b153-2cc5073a4b74",
   "metadata": {
    "editable": true,
    "slideshow": {
     "slide_type": ""
    },
    "tags": []
   },
   "outputs": [],
   "source": [
    "# Quiz 1\n",
    "multiple nein\n",
    "\n",
    "Frage Bei welchem Index beginnt eine Liste in Python?\n",
    "\n",
    "Richtige Antwort 0\n",
    "Falsche Antwort 1\n",
    "Falsche Antwort -1\n",
    "\n",
    "korrekt Genau, in Python fangen Listen bei dem Index 0 an.\n",
    "falsch Leider Falsch. Listen fangen in Python immer beim Index 0 an."
   ]
  },
  {
   "cell_type": "code",
   "execution_count": null,
   "id": "1644275e-9db7-4292-805b-7b8f16247cba",
   "metadata": {
    "editable": true,
    "slideshow": {
     "slide_type": ""
    },
    "tags": []
   },
   "outputs": [],
   "source": [
    "# Quiz 2\n",
    "multiple ja\n",
    "\n",
    "Frage Welche der Begriffe sind korrekte logische Operatoren?\n",
    "Richtige Antwort and\n",
    "Falsche Antwort mit\n",
    "Falsche Antwort of\n",
    "Richtige Antwort or\n",
    "\n",
    "korrekt Genau, 'and' und 'or' sind korrekt.\n",
    "falsch Leider sind einige der ausgewählten falsch."
   ]
  },
  {
   "cell_type": "code",
   "execution_count": null,
   "id": "7fa87f2b-fe50-41cd-9471-f750675de8c2",
   "metadata": {
    "editable": true,
    "slideshow": {
     "slide_type": ""
    },
    "tags": []
   },
   "outputs": [],
   "source": [
    "# Quiz 3\n",
    "\n",
    "multiple ja\n",
    "\n",
    "Frage Welche der Begriffe sind korrekte logische Operatoren?\n",
    "Richtige Antwort and\n",
    "Falsche Antwort mit\n",
    "Falsche Antwort of\n",
    "Richtige Antwort or\n",
    "\n",
    "korrekt Genau, 'and' und 'or' sind korrekt.\n",
    "falsch Leider sind einige der ausgewählten falsch."
   ]
  }
 ],
 "metadata": {
  "kernelspec": {
   "display_name": "Python 3 (ipykernel)",
   "language": "python",
   "name": "python3"
  },
  "language_info": {
   "codemirror_mode": {
    "name": "ipython",
    "version": 3
   },
   "file_extension": ".py",
   "mimetype": "text/x-python",
   "name": "python",
   "nbconvert_exporter": "python",
   "pygments_lexer": "ipython3",
   "version": "3.11.9"
  }
 },
 "nbformat": 4,
 "nbformat_minor": 5
}
