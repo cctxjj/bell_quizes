{
 "cells": [
  {
   "cell_type": "code",
   "execution_count": 8,
   "id": "initial_id",
   "metadata": {
    "ExecuteTime": {
     "end_time": "2025-01-03T13:04:38.189364Z",
     "start_time": "2025-01-03T13:04:38.009663Z"
    }
   },
   "outputs": [
    {
     "data": {
      "application/vnd.jupyter.widget-view+json": {
       "model_id": "26a8e45704334eb88de0c0e629376e5e",
       "version_major": 2,
       "version_minor": 0
      },
      "text/plain": [
       "HTML(value='Wie heißt eine Giraffe noch?')"
      ]
     },
     "metadata": {},
     "output_type": "display_data"
    },
    {
     "data": {
      "application/vnd.jupyter.widget-view+json": {
       "model_id": "6e3ddbb134a84954b8a6db1885c48e3d",
       "version_major": 2,
       "version_minor": 0
      },
      "text/plain": [
       "Text(value='', description='Antwort: ', placeholder='Hier eingeben')"
      ]
     },
     "metadata": {},
     "output_type": "display_data"
    },
    {
     "data": {
      "application/vnd.jupyter.widget-view+json": {
       "model_id": "6314edb25659405dbada0c276903abc5",
       "version_major": 2,
       "version_minor": 0
      },
      "text/plain": [
       "Button(description='Prüfen', style=ButtonStyle(button_color='grey'))"
      ]
     },
     "metadata": {},
     "output_type": "display_data"
    }
   ],
   "source": [
    "import lib\n",
    "import ipywidgets as widgets\n",
    "\n",
    "box = lib.SimpleInput(question=\"Wie heißt eine Giraffe noch?\", target_result=\"Langhalsaffe\")"
   ]
  },
  {
   "cell_type": "code",
   "execution_count": 3,
   "id": "afa4eb34fb98d145",
   "metadata": {
    "ExecuteTime": {
     "end_time": "2025-01-03T13:59:53.417010800Z",
     "start_time": "2025-01-03T13:59:51.196205Z"
    }
   },
   "outputs": [
    {
     "data": {
      "application/vnd.jupyter.widget-view+json": {
       "model_id": "62eaa61df5e94910b87b0627cef069f0",
       "version_major": 2,
       "version_minor": 0
      },
      "text/plain": [
       "HTML(value='Welcher Buchstabe steht an erster Stelle des Alphabetes?')"
      ]
     },
     "metadata": {},
     "output_type": "display_data"
    },
    {
     "data": {
      "application/vnd.jupyter.widget-view+json": {
       "model_id": "3c00e097710e439284d75696e861fe44",
       "version_major": 2,
       "version_minor": 0
      },
      "text/plain": [
       "VBox(children=(HBox(children=(Checkbox(value=False, description='A'), Checkbox(value=False, description='D')))…"
      ]
     },
     "metadata": {},
     "output_type": "display_data"
    },
    {
     "data": {
      "application/vnd.jupyter.widget-view+json": {
       "model_id": "65731cc639384a4889dbab55064b7a30",
       "version_major": 2,
       "version_minor": 0
      },
      "text/plain": [
       "Button(description='Prüfen', style=ButtonStyle(button_color='grey'))"
      ]
     },
     "metadata": {},
     "output_type": "display_data"
    },
    {
     "data": {
      "application/vnd.jupyter.widget-view+json": {
       "model_id": "056fa6abea2b42969e74e1fcdf036ad0",
       "version_major": 2,
       "version_minor": 0
      },
      "text/plain": [
       "HBox(children=(Button(description='Hinweis', style=ButtonStyle(button_color='grey')), HTML(value='')))"
      ]
     },
     "metadata": {},
     "output_type": "display_data"
    }
   ],
   "source": [
    "import lib\n",
    "multiple_choice = lib.MultipleChoice(\"Welcher Buchstabe steht an erster Stelle des Alphabetes?\", [\"A\"], [\"B\", \"C\", \"D\"], items_per_row=2)\n",
    "hint = lib.Hint(\"Mit welchem Buchstabe beginnt Affe?\")"
   ]
  },
  {
   "cell_type": "code",
   "execution_count": 1,
   "id": "f4cbe00354fb7290",
   "metadata": {},
   "outputs": [
    {
     "data": {
      "application/vnd.jupyter.widget-view+json": {
       "model_id": "5db7418dcfcc49f6bddaf1afa9bc2965",
       "version_major": 2,
       "version_minor": 0
      },
      "text/plain": [
       "HTML(value='Wie ist die richtige Reihenfolge?')"
      ]
     },
     "metadata": {},
     "output_type": "display_data"
    },
    {
     "data": {
      "application/vnd.jupyter.widget-view+json": {
       "model_id": "6dd3a2eaad984beab122ebea502c9fa9",
       "version_major": 2,
       "version_minor": 0
      },
      "text/plain": [
       "VBox(children=(HBox(children=(HTML(value='H', layout=Layout(border_bottom='1px solid aqua', border_left='1px s…"
      ]
     },
     "metadata": {},
     "output_type": "display_data"
    },
    {
     "data": {
      "application/vnd.jupyter.widget-view+json": {
       "model_id": "de9e345af84648a19f76e8a1754cae5d",
       "version_major": 2,
       "version_minor": 0
      },
      "text/plain": [
       "Button(description='Prüfen', style=ButtonStyle(button_color='grey'))"
      ]
     },
     "metadata": {},
     "output_type": "display_data"
    }
   ],
   "source": [
    "import lib\n",
    "order = lib.OrderTask(question=\"Wie ist die richtige Reihenfolge?\", items=[\"A\", \"B\", \"C\", \"D\", \"E\", \"F\", \"G\", \"H\", \"I\"])"
   ]
  },
  {
   "cell_type": "code",
   "execution_count": 9,
   "id": "5eddb995-2a32-4748-9b79-65b4e64e58ea",
   "metadata": {},
   "outputs": [
    {
     "name": "stdout",
     "output_type": "stream",
     "text": [
      "kein\n"
     ]
    },
    {
     "data": {
      "application/vnd.jupyter.widget-view+json": {
       "model_id": "7a185666dad347429795ca53fe495ba0",
       "version_major": 2,
       "version_minor": 0
      },
      "text/plain": [
       "Dropdown(options=('___', 'ein', 'kein'), value='___')"
      ]
     },
     "metadata": {},
     "output_type": "display_data"
    }
   ],
   "source": [
    "import lib\n",
    "text = lib.Text(\"Das ist {ein/kein/ein} Test.\")"
   ]
  }
 ],
 "metadata": {
  "kernelspec": {
   "display_name": "Python 3 (ipykernel)",
   "language": "python",
   "name": "python3"
  },
  "language_info": {
   "codemirror_mode": {
    "name": "ipython",
    "version": 3
   },
   "file_extension": ".py",
   "mimetype": "text/x-python",
   "name": "python",
   "nbconvert_exporter": "python",
   "pygments_lexer": "ipython3",
   "version": "3.11.9"
  }
 },
 "nbformat": 4,
 "nbformat_minor": 5
}
