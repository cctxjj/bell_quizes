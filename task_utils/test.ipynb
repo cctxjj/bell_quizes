{
 "cells": [
  {
   "cell_type": "code",
   "execution_count": 2,
   "id": "initial_id",
   "metadata": {
    "ExecuteTime": {
     "end_time": "2025-01-12T00:17:53.419742800Z",
     "start_time": "2025-01-12T00:17:53.407772500Z"
    }
   },
   "outputs": [
    {
     "data": {
      "text/plain": "HTML(value='Wie heißt eine Giraffe noch?')",
      "application/vnd.jupyter.widget-view+json": {
       "version_major": 2,
       "version_minor": 0,
       "model_id": "9011e11f2d974fe0847a36496bbbe930"
      }
     },
     "metadata": {},
     "output_type": "display_data"
    },
    {
     "data": {
      "text/plain": "Text(value='', description='Antwort: ', placeholder='Hier eingeben')",
      "application/vnd.jupyter.widget-view+json": {
       "version_major": 2,
       "version_minor": 0,
       "model_id": "62cc09f1aa264c40bab4a979aa8adf52"
      }
     },
     "metadata": {},
     "output_type": "display_data"
    },
    {
     "data": {
      "text/plain": "Button(description='Prüfen', style=ButtonStyle(button_color='grey'))",
      "application/vnd.jupyter.widget-view+json": {
       "version_major": 2,
       "version_minor": 0,
       "model_id": "155f1bfa4bec4115a0990b197ab9152f"
      }
     },
     "metadata": {},
     "output_type": "display_data"
    }
   ],
   "source": [
    "import lib\n",
    "import ipywidgets as widgets\n",
    "\n",
    "box = lib.SimpleInput(question=\"Wie heißt eine Giraffe noch?\", target_result=\"Langhalsaffe\")"
   ]
  },
  {
   "cell_type": "code",
   "execution_count": 3,
   "id": "afa4eb34fb98d145",
   "metadata": {
    "ExecuteTime": {
     "end_time": "2025-01-12T00:18:02.006824Z",
     "start_time": "2025-01-12T00:18:01.851454500Z"
    }
   },
   "outputs": [
    {
     "data": {
      "text/plain": "HTML(value='Welcher Buchstabe steht an erster Stelle des Alphabetes?')",
      "application/vnd.jupyter.widget-view+json": {
       "version_major": 2,
       "version_minor": 0,
       "model_id": "dd28727e1a9448febeb69787c5630382"
      }
     },
     "metadata": {},
     "output_type": "display_data"
    },
    {
     "data": {
      "text/plain": "VBox(children=(HBox(children=(Checkbox(value=False, description='C'), Checkbox(value=False, description='A')))…",
      "application/vnd.jupyter.widget-view+json": {
       "version_major": 2,
       "version_minor": 0,
       "model_id": "097893f08f90417eb6c97b0fc80ea5c6"
      }
     },
     "metadata": {},
     "output_type": "display_data"
    },
    {
     "data": {
      "text/plain": "Button(description='Prüfen', style=ButtonStyle(button_color='grey'))",
      "application/vnd.jupyter.widget-view+json": {
       "version_major": 2,
       "version_minor": 0,
       "model_id": "7851d02784d1441aad047588770aad94"
      }
     },
     "metadata": {},
     "output_type": "display_data"
    },
    {
     "data": {
      "text/plain": "HBox(children=(Button(description='Hinweis', style=ButtonStyle(button_color='grey')), HTML(value='')))",
      "application/vnd.jupyter.widget-view+json": {
       "version_major": 2,
       "version_minor": 0,
       "model_id": "f43959c2b30147a086b66588b7ba6709"
      }
     },
     "metadata": {},
     "output_type": "display_data"
    }
   ],
   "source": [
    "import lib\n",
    "multiple_choice = lib.MultipleChoice(\"Welcher Buchstabe steht an erster Stelle des Alphabetes?\", [\"A\"], [\"B\", \"C\", \"D\"], items_per_row=2)\n",
    "hint = lib.Hint(\"Mit welchem Buchstabe beginnt Affe?\")"
   ]
  },
  {
   "cell_type": "code",
   "execution_count": 4,
   "id": "f4cbe00354fb7290",
   "metadata": {
    "ExecuteTime": {
     "end_time": "2025-01-12T00:18:13.799372700Z",
     "start_time": "2025-01-12T00:18:13.533798700Z"
    }
   },
   "outputs": [
    {
     "data": {
      "text/plain": "HTML(value='Wie ist die richtige Reihenfolge?')",
      "application/vnd.jupyter.widget-view+json": {
       "version_major": 2,
       "version_minor": 0,
       "model_id": "924b0c78e6d844d3894a48afbe09cc99"
      }
     },
     "metadata": {},
     "output_type": "display_data"
    },
    {
     "data": {
      "text/plain": "VBox(children=(HBox(children=(HTML(value='E', layout=Layout(border_bottom='1px solid aqua', border_left='1px s…",
      "application/vnd.jupyter.widget-view+json": {
       "version_major": 2,
       "version_minor": 0,
       "model_id": "c52ae3a964b048c6924ff95aba8ee783"
      }
     },
     "metadata": {},
     "output_type": "display_data"
    },
    {
     "data": {
      "text/plain": "Button(description='Prüfen', style=ButtonStyle(button_color='grey'))",
      "application/vnd.jupyter.widget-view+json": {
       "version_major": 2,
       "version_minor": 0,
       "model_id": "ee6daf6083114af2b4befb4dc0f8103a"
      }
     },
     "metadata": {},
     "output_type": "display_data"
    }
   ],
   "source": [
    "import lib\n",
    "order = lib.OrderTask(question=\"Wie ist die richtige Reihenfolge?\", items=[\"A\", \"B\", \"C\", \"D\", \"E\", \"F\", \"G\", \"H\", \"I\"])"
   ]
  },
  {
   "cell_type": "code",
   "execution_count": null,
   "id": "5eddb995-2a32-4748-9b79-65b4e64e58ea",
   "metadata": {},
   "outputs": [],
   "source": []
  }
 ],
 "metadata": {
  "kernelspec": {
   "display_name": "Python 3 (ipykernel)",
   "language": "python",
   "name": "python3"
  },
  "language_info": {
   "codemirror_mode": {
    "name": "ipython",
    "version": 3
   },
   "file_extension": ".py",
   "mimetype": "text/x-python",
   "name": "python",
   "nbconvert_exporter": "python",
   "pygments_lexer": "ipython3",
   "version": "3.11.9"
  }
 },
 "nbformat": 4,
 "nbformat_minor": 5
}
