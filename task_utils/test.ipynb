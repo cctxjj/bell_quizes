{
 "cells": [
  {
   "cell_type": "code",
   "execution_count": 5,
   "id": "initial_id",
   "metadata": {
    "ExecuteTime": {
     "end_time": "2025-01-12T00:43:21.035661600Z",
     "start_time": "2025-01-12T00:43:20.906369900Z"
    }
   },
   "outputs": [
    {
     "data": {
      "text/plain": "HTML(value='Wie heißt eine Giraffe noch?')",
      "application/vnd.jupyter.widget-view+json": {
       "version_major": 2,
       "version_minor": 0,
       "model_id": "689de505c369417bb4d451ab81ef178c"
      }
     },
     "metadata": {},
     "output_type": "display_data"
    },
    {
     "data": {
      "text/plain": "Text(value='', description='Antwort: ', placeholder='Hier eingeben')",
      "application/vnd.jupyter.widget-view+json": {
       "version_major": 2,
       "version_minor": 0,
       "model_id": "672ff0cb10f046d59c3e980fc6798c2c"
      }
     },
     "metadata": {},
     "output_type": "display_data"
    },
    {
     "data": {
      "text/plain": "Button(description='Prüfen', style=ButtonStyle(button_color='grey'))",
      "application/vnd.jupyter.widget-view+json": {
       "version_major": 2,
       "version_minor": 0,
       "model_id": "7e5faf97f5654cc1901d872fcfeb8b3a"
      }
     },
     "metadata": {},
     "output_type": "display_data"
    }
   ],
   "source": [
    "import lib\n",
    "import ipywidgets as widgets\n",
    "\n",
    "box = lib.SimpleInput(question=\"Wie heißt eine Giraffe noch?\", target_result=\"Langhalsaffe\")"
   ]
  },
  {
   "cell_type": "code",
   "execution_count": 6,
   "id": "afa4eb34fb98d145",
   "metadata": {
    "ExecuteTime": {
     "end_time": "2025-01-12T00:43:30.085743500Z",
     "start_time": "2025-01-12T00:43:29.885621200Z"
    }
   },
   "outputs": [
    {
     "data": {
      "text/plain": "HTML(value='Welcher Buchstabe steht an erster Stelle des Alphabetes?')",
      "application/vnd.jupyter.widget-view+json": {
       "version_major": 2,
       "version_minor": 0,
       "model_id": "9018191d96bb4526bf21d485a2a7770b"
      }
     },
     "metadata": {},
     "output_type": "display_data"
    },
    {
     "data": {
      "text/plain": "VBox(children=(HBox(children=(Checkbox(value=False, description='C'), Checkbox(value=False, description='A')))…",
      "application/vnd.jupyter.widget-view+json": {
       "version_major": 2,
       "version_minor": 0,
       "model_id": "63c8b9e484b34fcba7cb334c73a47204"
      }
     },
     "metadata": {},
     "output_type": "display_data"
    },
    {
     "data": {
      "text/plain": "Button(description='Prüfen', style=ButtonStyle(button_color='grey'))",
      "application/vnd.jupyter.widget-view+json": {
       "version_major": 2,
       "version_minor": 0,
       "model_id": "b66f5bdc99eb4c3391b7c5d5c9574ee2"
      }
     },
     "metadata": {},
     "output_type": "display_data"
    },
    {
     "data": {
      "text/plain": "HBox(children=(Button(description='Hinweis', style=ButtonStyle(button_color='grey')), HTML(value='')))",
      "application/vnd.jupyter.widget-view+json": {
       "version_major": 2,
       "version_minor": 0,
       "model_id": "a2a5499c8bef4070a5ca8fe561c905ad"
      }
     },
     "metadata": {},
     "output_type": "display_data"
    }
   ],
   "source": [
    "import lib\n",
    "multiple_choice = lib.MultipleChoice(\"Welcher Buchstabe steht an erster Stelle des Alphabetes?\", [\"A\"], [\"B\", \"C\", \"D\"], items_per_row=2)\n",
    "hint = lib.Hint(\"Mit welchem Buchstabe beginnt Affe?\")"
   ]
  },
  {
   "cell_type": "code",
   "execution_count": 2,
   "outputs": [
    {
     "data": {
      "text/plain": "HTML(value='Welcher Buchstaben stehen an erster Stelle des Alphabetes?')",
      "application/vnd.jupyter.widget-view+json": {
       "version_major": 2,
       "version_minor": 0,
       "model_id": "8091fa8528a1459fa3f26e5be5cbd1f9"
      }
     },
     "metadata": {},
     "output_type": "display_data"
    },
    {
     "data": {
      "text/plain": "VBox(children=(HBox(children=(Button(description='X', layout=Layout(border_bottom='2px solid grey', border_lef…",
      "application/vnd.jupyter.widget-view+json": {
       "version_major": 2,
       "version_minor": 0,
       "model_id": "e94473c287cd4d3bb765a70904a84afe"
      }
     },
     "metadata": {},
     "output_type": "display_data"
    },
    {
     "data": {
      "text/plain": "Button(description='Prüfen', style=ButtonStyle(button_color='grey'))",
      "application/vnd.jupyter.widget-view+json": {
       "version_major": 2,
       "version_minor": 0,
       "model_id": "faca8bdae839455c8652a7068edb25fe"
      }
     },
     "metadata": {},
     "output_type": "display_data"
    },
    {
     "data": {
      "text/plain": "HBox(children=(Button(description='Hinweis', style=ButtonStyle(button_color='grey')), HTML(value='')))",
      "application/vnd.jupyter.widget-view+json": {
       "version_major": 2,
       "version_minor": 0,
       "model_id": "9014e034892f46bd8bb47af36b37d45f"
      }
     },
     "metadata": {},
     "output_type": "display_data"
    }
   ],
   "source": [
    "import lib\n",
    "multiple_choice = lib.ButtonedMultipleChoice(\"Welcher Buchstaben stehen an erster Stelle des Alphabetes?\", [\"A\", \"B\"], [\"Z\", \"X\", \"V\"], items_per_row=2)\n",
    "hint = lib.Hint(\"Mit welchem Buchstabe beginnt Affe?\")"
   ],
   "metadata": {
    "collapsed": false,
    "ExecuteTime": {
     "end_time": "2025-01-12T00:45:41.786316200Z",
     "start_time": "2025-01-12T00:45:41.594711Z"
    }
   }
  },
  {
   "cell_type": "code",
   "execution_count": 3,
   "id": "f4cbe00354fb7290",
   "metadata": {
    "ExecuteTime": {
     "end_time": "2025-01-12T00:45:54.531902Z",
     "start_time": "2025-01-12T00:45:54.248407900Z"
    }
   },
   "outputs": [
    {
     "data": {
      "text/plain": "HTML(value='Wie ist die richtige Reihenfolge?')",
      "application/vnd.jupyter.widget-view+json": {
       "version_major": 2,
       "version_minor": 0,
       "model_id": "de8fc1d9b34d40979748956cad04a0ba"
      }
     },
     "metadata": {},
     "output_type": "display_data"
    },
    {
     "data": {
      "text/plain": "VBox(children=(HBox(children=(HTML(value='F', layout=Layout(border_bottom='1px solid aqua', border_left='1px s…",
      "application/vnd.jupyter.widget-view+json": {
       "version_major": 2,
       "version_minor": 0,
       "model_id": "c91632c38bb34cfb80a876db233cb6d3"
      }
     },
     "metadata": {},
     "output_type": "display_data"
    },
    {
     "data": {
      "text/plain": "Button(description='Prüfen', style=ButtonStyle(button_color='grey'))",
      "application/vnd.jupyter.widget-view+json": {
       "version_major": 2,
       "version_minor": 0,
       "model_id": "510fe82b80b4470c944cf5ae116c8a5e"
      }
     },
     "metadata": {},
     "output_type": "display_data"
    }
   ],
   "source": [
    "import lib\n",
    "order = lib.OrderTask(question=\"Wie ist die richtige Reihenfolge?\", items=[\"A\", \"B\", \"C\", \"D\", \"E\", \"F\", \"G\", \"H\", \"I\"])"
   ]
  },
  {
   "cell_type": "code",
   "execution_count": 4,
   "id": "5eddb995-2a32-4748-9b79-65b4e64e58ea",
   "metadata": {
    "ExecuteTime": {
     "end_time": "2025-01-12T00:46:31.930364400Z",
     "start_time": "2025-01-12T00:46:31.791961300Z"
    }
   },
   "outputs": [
    {
     "data": {
      "text/plain": "HBox(children=(HTML(value='Allgemein nennt man gierige Affen auch '), Dropdown(layout=Layout(width='auto'), op…",
      "application/vnd.jupyter.widget-view+json": {
       "version_major": 2,
       "version_minor": 0,
       "model_id": "fb498d7e730740a5abee9f37f93c8e6d"
      }
     },
     "metadata": {},
     "output_type": "display_data"
    },
    {
     "data": {
      "text/plain": "Button(description='Prüfen', style=ButtonStyle(button_color='grey'))",
      "application/vnd.jupyter.widget-view+json": {
       "version_major": 2,
       "version_minor": 0,
       "model_id": "edb7e118917e40aa9e023877b0c2c411"
      }
     },
     "metadata": {},
     "output_type": "display_data"
    }
   ],
   "source": [
    "import lib\n",
    "text = lib.DropdownText(\"Allgemein nennt man gierige Affen auch {Schimpanse/Giraffen/Ente/Huhn/Giraffen}. Diese Bezeichnung stammt von einer {neuen/alten/deutschen/asiatischen/alten} Interpretation {des lateinischen Originalnamens/von Goethes Texten/des lateinischen Originalnamens}. Dessen sollte man sich stets bewusst sein.\")"
   ]
  },
  {
   "cell_type": "code",
   "execution_count": 4,
   "id": "2e715ea8-6a28-41a5-af13-2835df616271",
   "metadata": {
    "ExecuteTime": {
     "end_time": "2025-01-12T00:39:39.169525500Z",
     "start_time": "2025-01-12T00:39:39.064169800Z"
    }
   },
   "outputs": [
    {
     "data": {
      "text/plain": "HBox(children=(HTML(value='Die Zahl 5 hat den Betrag '), Text(value='', layout=Layout(width='320px'), placehol…",
      "application/vnd.jupyter.widget-view+json": {
       "version_major": 2,
       "version_minor": 0,
       "model_id": "badefd98b3ff4713879332712015a0bd"
      }
     },
     "metadata": {},
     "output_type": "display_data"
    },
    {
     "data": {
      "text/plain": "Button(description='Prüfen', style=ButtonStyle(button_color='grey'))",
      "application/vnd.jupyter.widget-view+json": {
       "version_major": 2,
       "version_minor": 0,
       "model_id": "405ac61366b84f1c8b74e6f3a55d879b"
      }
     },
     "metadata": {},
     "output_type": "display_data"
    }
   ],
   "source": [
    "import lib\n",
    "text = lib.AnswerboxText(\"Die Zahl 5 hat den Betrag {5}, ebenso wie die Zahl {-5}\")"
   ]
  }
 ],
 "metadata": {
  "kernelspec": {
   "display_name": "Python 3 (ipykernel)",
   "language": "python",
   "name": "python3"
  },
  "language_info": {
   "codemirror_mode": {
    "name": "ipython",
    "version": 3
   },
   "file_extension": ".py",
   "mimetype": "text/x-python",
   "name": "python",
   "nbconvert_exporter": "python",
   "pygments_lexer": "ipython3",
   "version": "3.11.9"
  }
 },
 "nbformat": 4,
 "nbformat_minor": 5
}
