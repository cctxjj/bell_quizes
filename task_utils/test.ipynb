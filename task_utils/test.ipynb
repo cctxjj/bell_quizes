{
 "cells": [
  {
   "cell_type": "code",
   "id": "initial_id",
   "metadata": {
    "collapsed": true,
    "is_executing": true,
    "ExecuteTime": {
     "start_time": "2025-01-04T20:39:04.196814400Z"
    }
   },
   "source": [
    "\n",
    "import lib\n",
    "\n",
    "print(\"Test1\")\n",
    "box = lib.SimpleInput(question=\"Wie heißt eine Giraffe noch?\", target_result=\"Langhalsaffe\")\n"
   ],
   "outputs": [
    {
     "name": "stderr",
     "output_type": "stream",
     "text": [
      "Exception ignored in thread started by: <function new_icon at 0x000002AADB370550>\n",
      "Traceback (most recent call last):\n",
      "  File \"C:\\Users\\Matth\\PycharmProjects\\bell_quizes\\venv\\lib\\site-packages\\win32\\Demos\\desktopmanager.py\", line 95, in new_icon\n",
      "    windowclass = win32gui.RegisterClass(wc)\n",
      "pywintypes.error: (1410, 'RegisterClass', 'Klasse ist bereits vorhanden')\n"
     ]
    }
   ],
   "execution_count": null
  },
  {
   "cell_type": "code",
   "execution_count": 11,
   "outputs": [
    {
     "data": {
      "text/plain": "interactive(children=(IntSlider(value=70, description='x', max=210, min=-70), Output()), _dom_classes=('widget…",
      "application/vnd.jupyter.widget-view+json": {
       "version_major": 2,
       "version_minor": 0,
       "model_id": "0e08357dd0454124b09d52483d3d5006"
      }
     },
     "metadata": {},
     "output_type": "display_data"
    },
    {
     "data": {
      "text/plain": "<function __main__.func(x)>"
     },
     "execution_count": 11,
     "metadata": {},
     "output_type": "execute_result"
    }
   ],
   "source": [
    "import ipywidgets\n",
    "\n",
    "\n",
    "\n",
    "x = 0\n",
    "def func(x):\n",
    "    print(x)\n",
    "ipywidgets.interact(func, x=70)"
   ],
   "metadata": {
    "collapsed": false,
    "ExecuteTime": {
     "end_time": "2025-01-04T20:38:39.129707600Z",
     "start_time": "2025-01-04T20:38:38.979624100Z"
    }
   }
  },
  {
   "metadata": {},
   "cell_type": "code",
   "source": [
    "import lib\n",
    "multiple_choice = lib.MultipleChoice(\"Welcher Buchstabe steht an erster Stelle des Alphabetes?\", [\"A\"], [\"B\", \"C\", \"D\"], items_per_row=2)\n",
    "hint = lib.Hint(\"Mit welchem Buchstabe beginnt Affe?\")\n",
    "multiple_choice.add_hint(hint)\n"
   ],
   "id": "afa4eb34fb98d145",
   "outputs": [],
   "execution_count": null
  }
 ],
 "metadata": {
  "kernelspec": {
   "display_name": "Python 3",
   "language": "python",
   "name": "python3"
  },
  "language_info": {
   "codemirror_mode": {
    "name": "ipython",
    "version": 2
   },
   "file_extension": ".py",
   "mimetype": "text/x-python",
   "name": "python",
   "nbconvert_exporter": "python",
   "pygments_lexer": "ipython2",
   "version": "2.7.6"
  }
 },
 "nbformat": 4,
 "nbformat_minor": 5
}
