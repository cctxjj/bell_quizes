{
 "cells": [
  {
   "cell_type": "code",
   "execution_count": 1,
   "id": "initial_id",
   "metadata": {
    "ExecuteTime": {
     "end_time": "2025-01-12T00:17:53.419742800Z",
     "start_time": "2025-01-12T00:17:53.407772500Z"
    }
   },
   "outputs": [
    {
     "data": {
      "text/plain": "HTML(value='Wie heißt eine Giraffe noch?')",
      "application/vnd.jupyter.widget-view+json": {
       "model_id": "ebc88d8047d14946843bd20f7010d88d",
       "version_major": 2,
       "version_minor": 0,
       "model_id": "9011e11f2d974fe0847a36496bbbe930"
      }
     },
     "metadata": {},
     "output_type": "display_data"
    },
    {
     "data": {
      "text/plain": "Text(value='', description='Antwort: ', placeholder='Hier eingeben')",
      "application/vnd.jupyter.widget-view+json": {
       "model_id": "ad0814ee918b4d0ab4038c5ec4b8f9a7",
       "version_major": 2,
       "version_minor": 0,
       "model_id": "62cc09f1aa264c40bab4a979aa8adf52"
      }
     },
     "metadata": {},
     "output_type": "display_data"
    },
    {
     "data": {
      "text/plain": "Button(description='Prüfen', style=ButtonStyle(button_color='grey'))",
      "application/vnd.jupyter.widget-view+json": {
       "model_id": "7058a0f36b444e86a60e722af4a28f4b",
       "version_major": 2,
       "version_minor": 0,
       "model_id": "155f1bfa4bec4115a0990b197ab9152f"
      }
     },
     "metadata": {},
     "output_type": "display_data"
    }
   ],
   "source": [
    "import lib\n",
    "import ipywidgets as widgets\n",
    "\n",
    "box = lib.SimpleInput(question=\"Wie heißt eine Giraffe noch?\", target_result=\"Langhalsaffe\")"
   ]
  },
  {
   "cell_type": "code",
   "execution_count": 2,
   "id": "afa4eb34fb98d145",
   "metadata": {
    "ExecuteTime": {
     "end_time": "2025-01-12T00:18:02.006824Z",
     "start_time": "2025-01-12T00:18:01.851454500Z"
    }
   },
   "outputs": [
    {
     "data": {
      "text/plain": "HTML(value='Welcher Buchstabe steht an erster Stelle des Alphabetes?')",
      "application/vnd.jupyter.widget-view+json": {
       "model_id": "950933dd9b5e484cb7e9177d67b29ec0",
       "version_major": 2,
       "version_minor": 0,
       "model_id": "dd28727e1a9448febeb69787c5630382"
      }
     },
     "metadata": {},
     "output_type": "display_data"
    },
    {
     "data": {
      "text/plain": "VBox(children=(HBox(children=(Checkbox(value=False, description='C'), Checkbox(value=False, description='A')))…",
      "application/vnd.jupyter.widget-view+json": {
       "model_id": "a5b05e3ee3974cf789225204188794d5",
       "version_major": 2,
       "version_minor": 0
      },
      "text/plain": [
       "VBox(children=(HBox(children=(Checkbox(value=False, description='B'), Checkbox(value=False, description='A')))…"
      ]
     },
     "metadata": {},
     "output_type": "display_data"
    },
    {
     "data": {
      "text/plain": "Button(description='Prüfen', style=ButtonStyle(button_color='grey'))",
      "application/vnd.jupyter.widget-view+json": {
       "model_id": "1681a6ff45de4fb7831f95c57ba253d2",
       "version_major": 2,
       "version_minor": 0,
       "model_id": "7851d02784d1441aad047588770aad94"
      }
     },
     "metadata": {},
     "output_type": "display_data"
    },
    {
     "data": {
      "text/plain": "HBox(children=(Button(description='Hinweis', style=ButtonStyle(button_color='grey')), HTML(value='')))",
      "application/vnd.jupyter.widget-view+json": {
       "model_id": "daf328f05a1b4a80957d417bd3c7ebb3",
       "version_major": 2,
       "version_minor": 0,
       "model_id": "f43959c2b30147a086b66588b7ba6709"
      }
     },
     "metadata": {},
     "output_type": "display_data"
    }
   ],
   "source": [
    "import lib\n",
    "multiple_choice = lib.MultipleChoice(\"Welcher Buchstabe steht an erster Stelle des Alphabetes?\", [\"A\"], [\"B\", \"C\", \"D\"], items_per_row=2)\n",
    "hint = lib.Hint(\"Mit welchem Buchstabe beginnt Affe?\")"
   ]
  },
  {
   "cell_type": "code",
   "execution_count": 3,
   "id": "f4cbe00354fb7290",
   "metadata": {
    "ExecuteTime": {
     "end_time": "2025-01-12T00:18:13.799372700Z",
     "start_time": "2025-01-12T00:18:13.533798700Z"
    }
   },
   "outputs": [
    {
     "data": {
      "text/plain": "HTML(value='Wie ist die richtige Reihenfolge?')",
      "application/vnd.jupyter.widget-view+json": {
       "model_id": "6e4724c23d2d4092b82a2843d7abc2f1",
       "version_major": 2,
       "version_minor": 0,
       "model_id": "924b0c78e6d844d3894a48afbe09cc99"
      }
     },
     "metadata": {},
     "output_type": "display_data"
    },
    {
     "data": {
      "text/plain": "VBox(children=(HBox(children=(HTML(value='E', layout=Layout(border_bottom='1px solid aqua', border_left='1px s…",
      "application/vnd.jupyter.widget-view+json": {
       "model_id": "fec7f03ab24444389408e4d3de0cb2ba",
       "version_major": 2,
       "version_minor": 0
      },
      "text/plain": [
       "VBox(children=(HBox(children=(HTML(value='C', layout=Layout(border_bottom='1px solid aqua', border_left='1px s…"
      ]
     },
     "metadata": {},
     "output_type": "display_data"
    },
    {
     "data": {
      "text/plain": "Button(description='Prüfen', style=ButtonStyle(button_color='grey'))",
      "application/vnd.jupyter.widget-view+json": {
       "model_id": "5ad780ed883541ad8aa6e30de84d2be3",
       "version_major": 2,
       "version_minor": 0,
       "model_id": "ee6daf6083114af2b4befb4dc0f8103a"
      }
     },
     "metadata": {},
     "output_type": "display_data"
    }
   ],
   "source": [
    "import lib\n",
    "order = lib.OrderTask(question=\"Wie ist die richtige Reihenfolge?\", items=[\"A\", \"B\", \"C\", \"D\", \"E\", \"F\", \"G\", \"H\", \"I\"])"
   ]
  },
  {
   "cell_type": "code",
   "execution_count": 4,
   "id": "5eddb995-2a32-4748-9b79-65b4e64e58ea",
   "metadata": {},
   "outputs": [
    {
     "data": {
      "application/vnd.jupyter.widget-view+json": {
       "model_id": "7a06dcedc94f4e47962329d7ffd04278",
       "version_major": 2,
       "version_minor": 0
      },
      "text/plain": [
       "HBox(children=(HTML(value='Allgemein nennt man gierige Affen auch '), Dropdown(layout=Layout(width='auto'), op…"
      ]
     },
     "metadata": {},
     "output_type": "display_data"
    },
    {
     "data": {
      "application/vnd.jupyter.widget-view+json": {
       "model_id": "e0e6761b5ac646d1b2c65b1515a1128b",
       "version_major": 2,
       "version_minor": 0
      },
      "text/plain": [
       "Button(description='Prüfen', style=ButtonStyle(button_color='grey'))"
      ]
     },
     "metadata": {},
     "output_type": "display_data"
    }
   ],
   "source": [
    "import lib\n",
    "text = lib.DropdownText(\"Allgemein nennt man gierige Affen auch {Schimpanse/Giraffen/Ente/Huhn/Giraffen}. Diese Bezeichnung stammt von einer {neuen/alten/deutschen/asiatischen/alten} Interpretation {des lateinischen Originalnamens/von Goethes Texten/des lateinischen Originalnamens}. Dessen sollte man sich stets bewusst sein.\")"
   ]
  },
  {
   "cell_type": "code",
   "execution_count": 5,
   "id": "2e715ea8-6a28-41a5-af13-2835df616271",
   "metadata": {},
   "outputs": [
    {
     "data": {
      "application/vnd.jupyter.widget-view+json": {
       "model_id": "83b21eeb9dd5490abdcfaf26cc82b5db",
       "version_major": 2,
       "version_minor": 0
      },
      "text/plain": [
       "HBox(children=(HTML(value='Die Zahl 5 hat den Betrag '), Text(value='', layout=Layout(width='100px'), placehol…"
      ]
     },
     "metadata": {},
     "output_type": "display_data"
    },
    {
     "data": {
      "application/vnd.jupyter.widget-view+json": {
       "model_id": "faabe44641fc4e129f2357672ee63200",
       "version_major": 2,
       "version_minor": 0
      },
      "text/plain": [
       "Button(description='Prüfen', style=ButtonStyle(button_color='grey'))"
      ]
     },
     "metadata": {},
     "output_type": "display_data"
    }
   ],
   "source": [
    "import lib\n",
    "text = lib.AnswerboxText(\"Die Zahl 5 hat den Betrag {Giraffe}, ebenso wie die Zahl {-5}\")"
   ]
  }
 ],
 "metadata": {
  "kernelspec": {
   "display_name": "Python 3 (ipykernel)",
   "language": "python",
   "name": "python3"
  },
  "language_info": {
   "codemirror_mode": {
    "name": "ipython",
    "version": 3
   },
   "file_extension": ".py",
   "mimetype": "text/x-python",
   "name": "python",
   "nbconvert_exporter": "python",
   "pygments_lexer": "ipython3",
   "version": "3.11.9"
  }
 },
 "nbformat": 4,
 "nbformat_minor": 5
}
