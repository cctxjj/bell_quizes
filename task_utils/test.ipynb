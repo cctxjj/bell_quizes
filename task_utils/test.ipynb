{
 "cells": [
  {
   "cell_type": "code",
   "execution_count": null,
   "id": "initial_id",
   "metadata": {
    "ExecuteTime": {
     "end_time": "2025-01-03T13:04:38.189364Z",
     "start_time": "2025-01-03T13:04:38.009663Z"
    }
   },
   "outputs": [],
   "source": [
    "import lib\n",
    "import ipywidgets as widgets\n",
    "\n",
    "box = lib.SimpleInput(question=\"Wie heißt eine Giraffe noch?\", target_result=\"Langhalsaffe\")"
   ]
  },
  {
   "cell_type": "code",
   "execution_count": null,
   "id": "afa4eb34fb98d145",
   "metadata": {
    "ExecuteTime": {
     "end_time": "2025-01-03T13:59:53.417010800Z",
     "start_time": "2025-01-03T13:59:51.196205Z"
    }
   },
   "outputs": [],
   "source": [
    "import lib\n",
    "multiple_choice = lib.MultipleChoice(\"Welcher Buchstabe steht an erster Stelle des Alphabetes?\", [\"A\"], [\"B\", \"C\", \"D\"], items_per_row=2)\n",
    "hint = lib.Hint(\"Mit welchem Buchstabe beginnt Affe?\")"
   ]
  },
  {
   "cell_type": "code",
   "id": "f4cbe00354fb7290",
   "metadata": {
    "ExecuteTime": {
     "end_time": "2025-01-05T17:46:35.461411Z",
     "start_time": "2025-01-05T17:46:35.407034Z"
    }
   },
   "source": [
    "import lib\n",
    "order = lib.OrderTask(question=\"Wie ist die richtige Reihenfolge?\", items=[\"A\", \"B\", \"C\", \"D\", \"E\", \"F\", \"G\", \"H\", \"I\"])"
   ],
   "outputs": [
    {
     "data": {
      "text/plain": [
       "HTML(value='Wie ist die richtige Reihenfolge?')"
      ],
      "application/vnd.jupyter.widget-view+json": {
       "version_major": 2,
       "version_minor": 0,
       "model_id": "e22ea99b1b7043228a42ead421c19fea"
      }
     },
     "metadata": {},
     "output_type": "display_data"
    },
    {
     "data": {
      "text/plain": [
       "VBox(children=(HBox(children=(HTML(value='D', layout=Layout(border_bottom='1px solid aqua', border_left='1px s…"
      ],
      "application/vnd.jupyter.widget-view+json": {
       "version_major": 2,
       "version_minor": 0,
       "model_id": "7a1ee284049149f781ce61633bed03a3"
      }
     },
     "metadata": {},
     "output_type": "display_data"
    },
    {
     "data": {
      "text/plain": [
       "Button(description='Prüfen', style=ButtonStyle(button_color='grey'))"
      ],
      "application/vnd.jupyter.widget-view+json": {
       "version_major": 2,
       "version_minor": 0,
       "model_id": "8733b9a0463d4204aaf4b1a29d517e60"
      }
     },
     "metadata": {},
     "output_type": "display_data"
    }
   ],
   "execution_count": 2
  },
  {
   "cell_type": "code",
   "id": "5eddb995-2a32-4748-9b79-65b4e64e58ea",
   "metadata": {
    "ExecuteTime": {
     "end_time": "2025-01-05T18:30:50.538388Z",
     "start_time": "2025-01-05T18:30:50.511530Z"
    }
   },
   "source": [
    "import lib\n",
    "\n",
    "test_buttoned_multiple_choice = lib.ButtonedMultipleChoice(\"Welche Zahlen sind gerade?\", [\"2\", \"4\"], [\"3\", \"5\"], items_per_row=4)"
   ],
   "outputs": [
    {
     "data": {
      "text/plain": [
       "HTML(value='Welche Zahlen sind gerade?')"
      ],
      "application/vnd.jupyter.widget-view+json": {
       "version_major": 2,
       "version_minor": 0,
       "model_id": "5854e5d4fb8141719265f4bc4d511eae"
      }
     },
     "metadata": {},
     "output_type": "display_data"
    },
    {
     "data": {
      "text/plain": [
       "VBox(children=(HBox(children=(Button(description='4', layout=Layout(border_bottom='2px solid grey', border_lef…"
      ],
      "application/vnd.jupyter.widget-view+json": {
       "version_major": 2,
       "version_minor": 0,
       "model_id": "2efe6b7bbcbd4eef8dbde679dcc186db"
      }
     },
     "metadata": {},
     "output_type": "display_data"
    },
    {
     "data": {
      "text/plain": [
       "Button(description='Prüfen', style=ButtonStyle(button_color='grey'))"
      ],
      "application/vnd.jupyter.widget-view+json": {
       "version_major": 2,
       "version_minor": 0,
       "model_id": "97ff7d29d9cd48bb87fd46b8b4cec196"
      }
     },
     "metadata": {},
     "output_type": "display_data"
    }
   ],
   "execution_count": 2
  },
  {
   "metadata": {
    "ExecuteTime": {
     "end_time": "2025-01-05T18:30:40.875684Z",
     "start_time": "2025-01-05T18:30:40.779271Z"
    }
   },
   "cell_type": "code",
   "source": [
    "import lib\n",
    "\n",
    "test_buttoned_single_choice = lib.ButtonedSingleChoice(\"Welche Zahl ist gerade?\", \"2\", [\"3\", \"5\"], items_per_row=3)"
   ],
   "id": "d37aa609e6e856d7",
   "outputs": [
    {
     "data": {
      "text/plain": [
       "HTML(value='Welche Zahl ist gerade?')"
      ],
      "application/vnd.jupyter.widget-view+json": {
       "version_major": 2,
       "version_minor": 0,
       "model_id": "e9fc2f8c31f64f1d836ca09c62374c06"
      }
     },
     "metadata": {},
     "output_type": "display_data"
    },
    {
     "data": {
      "text/plain": [
       "VBox(children=(HBox(children=(Button(description='3', layout=Layout(border_bottom='2px solid grey', border_lef…"
      ],
      "application/vnd.jupyter.widget-view+json": {
       "version_major": 2,
       "version_minor": 0,
       "model_id": "2c57dfec4df94ec9bd279de8b857f40a"
      }
     },
     "metadata": {},
     "output_type": "display_data"
    },
    {
     "data": {
      "text/plain": [
       "Button(description='Prüfen', style=ButtonStyle(button_color='grey'))"
      ],
      "application/vnd.jupyter.widget-view+json": {
       "version_major": 2,
       "version_minor": 0,
       "model_id": "8822264982874b04b23ee1f0aa0c0f3d"
      }
     },
     "metadata": {},
     "output_type": "display_data"
    }
   ],
   "execution_count": 1
  }
 ],
 "metadata": {
  "kernelspec": {
   "display_name": "Python 3 (ipykernel)",
   "language": "python",
   "name": "python3"
  },
  "language_info": {
   "codemirror_mode": {
    "name": "ipython",
    "version": 3
   },
   "file_extension": ".py",
   "mimetype": "text/x-python",
   "name": "python",
   "nbconvert_exporter": "python",
   "pygments_lexer": "ipython3",
   "version": "3.11.9"
  }
 },
 "nbformat": 4,
 "nbformat_minor": 5
}
